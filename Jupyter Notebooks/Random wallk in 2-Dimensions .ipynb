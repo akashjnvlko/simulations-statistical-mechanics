{
 "cells": [
  {
   "cell_type": "code",
   "execution_count": 9,
   "metadata": {},
   "outputs": [],
   "source": [
    "%matplotlib qt"
   ]
  },
  {
   "cell_type": "code",
   "execution_count": 10,
   "metadata": {},
   "outputs": [],
   "source": [
    "# %matplotlib notebook\n",
    "import matplotlib.pyplot as plt \n",
    "# plt.rcParams['figure.figsize'] = [8,5]"
   ]
  },
  {
   "cell_type": "code",
   "execution_count": null,
   "metadata": {},
   "outputs": [],
   "source": []
  },
  {
   "cell_type": "markdown",
   "metadata": {},
   "source": [
    "# color = 'red'    writing "
   ]
  },
  {
   "cell_type": "markdown",
   "metadata": {},
   "source": []
  },
  {
   "cell_type": "code",
   "execution_count": null,
   "metadata": {},
   "outputs": [],
   "source": []
  },
  {
   "cell_type": "code",
   "execution_count": 11,
   "metadata": {
    "scrolled": false
   },
   "outputs": [],
   "source": [
    "'''\n",
    "Author: Akash Yadav \n",
    "        1710003\n",
    "        Integrated M.Sc Physics \n",
    "        National Institute of Technology, Patna \n",
    "'''\n",
    "\n",
    "# lets simulate random walk in two dimensions for one random walker \n",
    "\n",
    "\n",
    "import random as rnd\n",
    "import numpy as np\n",
    "import math\n",
    "\n",
    "# we need a random direction generator for this simulation,let's design that ...\n",
    "\n",
    "def random_point(x,y):\n",
    "    raw_random_variable = rnd.random() \n",
    "    # we need to map this variable to [0,1) ---->>> [0,2pi)\n",
    "    random_angle = raw_random_variable*(2*math.pi)\n",
    "    step_size = 1\n",
    "\n",
    "    #next random point in two dimensions will be  ...\n",
    "    x= x + math.cos(random_angle) *step_size\n",
    "    y= y + math.sin(random_angle) *step_size\n",
    "\n",
    "    return (x,y)\n",
    "\n",
    "\n",
    "def path_generator(steps,x_0,y_0):\n",
    "    #this funcions will give us random path taken by walker \n",
    "    x= x_0\n",
    "    y= y_0\n",
    "    x_data = np.zeros(steps+1) \n",
    "    y_data = np.zeros(steps+1)\n",
    "    x_data[0],y_data[0]= x_0,y_0\n",
    "\n",
    "    for i in range(1,steps+1):\n",
    "        x,y = random_point(x,y)\n",
    "        x_data[i]= x\n",
    "        y_data[i]= y\n",
    "\n",
    "    return  x_data,y_data\n",
    "\n",
    "\n",
    "#  lets call path_generator(step,x_0,y_0)\n",
    "x_0= 0\n",
    "y_0 =0 \n",
    "number_of_steps = 200\n",
    "X,Y = path_generator(number_of_steps,x_0, y_0)\n",
    "plt.plot(X,Y,color='blue')\n",
    "plt.scatter(X,Y,color='black')\n",
    "plt.scatter(x_0,y_0,linewidths=10,marker = '*',color='red')\n",
    "plt.scatter(X[-1],Y[-1],linewidths=10 ,marker = '*',color='green',)\n",
    "\n",
    "plt.title(\"Random walk in two-dimensions\")\n",
    "plt.xlabel(\"x- axis\")\n",
    "plt.ylabel(\"y- axis\")\n",
    "plt.show()\n"
   ]
  },
  {
   "cell_type": "code",
   "execution_count": null,
   "metadata": {},
   "outputs": [],
   "source": []
  }
 ],
 "metadata": {
  "kernelspec": {
   "display_name": "Python 3",
   "language": "python",
   "name": "python3"
  },
  "language_info": {
   "codemirror_mode": {
    "name": "ipython",
    "version": 3
   },
   "file_extension": ".py",
   "mimetype": "text/x-python",
   "name": "python",
   "nbconvert_exporter": "python",
   "pygments_lexer": "ipython3",
   "version": "3.7.6"
  }
 },
 "nbformat": 4,
 "nbformat_minor": 4
}
